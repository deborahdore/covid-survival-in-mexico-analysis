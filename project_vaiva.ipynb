{
 "cells": [
  {
   "cell_type": "markdown",
   "id": "982bd070",
   "metadata": {
    "id": "982bd070"
   },
   "source": [
    "# Covid Survival in Mexico Analysis"
   ]
  },
  {
   "cell_type": "markdown",
   "id": "DeXqlSHwOaMf",
   "metadata": {
    "id": "DeXqlSHwOaMf"
   },
   "source": [
    "**What was done:**\n",
    "\n",
    "\n",
    "1.   *Business Understanding*: \n",
    "  - understand the goal of this work and why it is important. (Section I)\n",
    "2.   *Data Understanding*: \n",
    "  - Explore the dataset and column by column\n",
    "  - Make sure that the data contained is correctly interpreted (eg. translating column names, finding the correct description of the columns on the official website on github, searching for papers to have a wider view of the work) (Section II)\n",
    "3. *Data Preparation*: (Section III)\n",
    " - clean\n",
    " - filter\n",
    " - prepare data for further steps. \n",
    "\n",
    "  In this part of the looked more closely to errors, inconsistencies, and various type of problems that data in columns could have had and that could prevent our model from learning accurately. <br>\n",
    "  In particular:\n",
    "  - remove the un-necessary columns (the id created when inserting a new observation into the register and the date in which the new observation was inserted).\n",
    "  - remove null values\n",
    "  - convert categorical data to numerical\n",
    "  - remove outliers (for example age 120 in the column 'EDAD')\n",
    "  - normalize (min-max normalization) every column so that the model could not be biased from a different choice of range in the data\n",
    "  - remove redundant column (using the pearson correlation between one another)\n",
    "  - feature selection using PCA to reduce the number of columns and avoid falling into the *curse of dimensionality* problem. \n",
    "\n",
    "\n",
    "**What still needs to be done**:\n",
    "\n",
    "3. *Data Preparation* (Section III): \n",
    "  -  This dataset is also unbalanced so we will study the best techniques to balance it and apply them to the dataset.\n",
    "\n",
    "\n",
    "4. *Modelling* (Section IV)\n",
    "  - Our goal for this section will be to train different models using cross-validation. Also, we want to see if the model performs better with or without feature selection. If we realise that the performance are lower after PCA, we shall search for other types of feature selection or try without. <br>\n",
    "  - Another goal that we will like to achieve is to perform hyperparameter tuning on the best models and find out if the models could be tuned to obtain better results. <br>\n",
    "  - We balanced our dataset in the previous section but other experiments could be executed on the model directly instead of the dataset: for example by applying weigths to each class. We will analyze this possibility.\n",
    "\n",
    "\n",
    "5. *Evaluation* (Section V)\n",
    "In this part we shall evaluate each model. Different metrics will be considered.\n",
    "\n",
    "\n",
    "6. *Conclusion* (Section VI)\n",
    "This part will conclude our work by discussing the techniques used and the various approaches studied."
   ]
  },
  {
   "cell_type": "markdown",
   "id": "5713283a",
   "metadata": {
    "id": "5713283a"
   },
   "source": [
    "# 1. Business Understanding"
   ]
  },
  {
   "cell_type": "markdown",
   "id": "15808d49",
   "metadata": {
    "id": "15808d49"
   },
   "source": [
    "### **1.1 - Background**\n",
    "\n",
    "After three years of pandemic, all the world knows about COVID19, a virus that causes severe acute respiratory syndrome (SARS-CoV-2). Over 106 million SARS-CoV-2 infections and over 2.3 million fatalities have been reported as of the first week of February 2021. This epidemic has severely disrupted global economic activity. \n",
    "In response to the worldwide public health crisis, scientists and physicians have worked very hard to give new insights and develop technology solutions that may assist in combating this infectious sickness and lessening its effects. <br>\n",
    "<br>\n",
    "Artificial intelligence approaches have been recognized in this context as a potent and promising technology that may help with:\n",
    "<ul>\n",
    "    <li>the diagnostic process</li>\n",
    "    <li>prediction of disease spreading dynamics</li>\n",
    "    <li>tracking of infected patients</li>\n",
    "    <li> tracking of potential future patients</li>\n",
    "    <li> determine if a particular patient poses a mortality risk</li>\n",
    "</ul>"
   ]
  },
  {
   "cell_type": "markdown",
   "id": "ae6218a3",
   "metadata": {
    "id": "ae6218a3"
   },
   "source": [
    "### **1.2 - Business Objectives**\n",
    "In this scenario is important to improve hospital capacity planning and ensure that the right patient receive timely treatment."
   ]
  },
  {
   "cell_type": "markdown",
   "id": "dd65eb53",
   "metadata": {
    "id": "dd65eb53"
   },
   "source": [
    "### **1.3 - Business Success Criteria**\n",
    "The business success criterias are met if health care priorities are currenty assigned and identify high-risk patients are quickly identified."
   ]
  },
  {
   "cell_type": "markdown",
   "id": "e61fac4c",
   "metadata": {
    "id": "e61fac4c"
   },
   "source": [
    "### **1.4 - Situation**\n",
    "To our disposal we have a dataset containing 4 million entries of 40 attributes, each one containing information about a patient \n"
   ]
  },
  {
   "cell_type": "markdown",
   "id": "e04c6352",
   "metadata": {
    "id": "e04c6352"
   },
   "source": [
    "### **1.5 - Data Mining Goals**\n",
    "Correctly identify patients who are more likely to die and patients who are more likely to survive."
   ]
  },
  {
   "cell_type": "markdown",
   "id": "381750d2",
   "metadata": {
    "id": "381750d2"
   },
   "source": [
    "### **1.6 - Data Mining Success Criteria**\n",
    "The success criteria are satisfied if the model is able to identify patient with high precision in a fast way."
   ]
  },
  {
   "cell_type": "markdown",
   "id": "a2f8f84e",
   "metadata": {
    "id": "a2f8f84e"
   },
   "source": [
    "# 2. Data Understanding"
   ]
  },
  {
   "cell_type": "markdown",
   "id": "69f15ca7",
   "metadata": {
    "id": "69f15ca7"
   },
   "source": [
    "### **2.1 - Initial Data Collection**"
   ]
  },
  {
   "cell_type": "code",
   "execution_count": null,
   "id": "c78467ff",
   "metadata": {},
   "outputs": [],
   "source": [
    "%%capture \n",
    "%pip install shap\n",
    "%pip install category_encoders\n",
    "%pip install imblearn"
   ]
  },
  {
   "cell_type": "code",
   "execution_count": null,
   "id": "aabbee13",
   "metadata": {
    "id": "aabbee13"
   },
   "outputs": [],
   "source": [
    "# libraries import\n",
    "import pandas as pd\n",
    "import numpy as np\n",
    "import seaborn as sns\n",
    "import matplotlib.pyplot as plt\n",
    "import matplotlib.ticker as ticker\n",
    "from sklearn import preprocessing\n",
    "from sklearn.preprocessing import MinMaxScaler, LabelEncoder\n",
    "from sklearn.impute import SimpleImputer\n",
    "from pandas.api.types import is_numeric_dtype\n",
    "from sklearn.experimental import enable_iterative_imputer\n",
    "from sklearn.impute import IterativeImputer\n",
    "from sklearn import linear_model\n",
    "from scipy import stats\n",
    "from sklearn.decomposition import PCA\n",
    "import seaborn as sns\n",
    "from sklearn.feature_selection import RFE\n",
    "import statsmodels.api as sm\n",
    "from sklearn.metrics import mean_squared_error\n",
    "from sklearn.model_selection import train_test_split\n",
    "from sklearn.inspection import permutation_importance\n",
    "import shap\n",
    "import category_encoders as ce\n",
    "from sklearn.ensemble import GradientBoostingRegressor\n",
    "\n",
    "from sklearn.naive_bayes import GaussianNB\n",
    "from sklearn.metrics import accuracy_score\n",
    "from sklearn.metrics import confusion_matrix\n",
    "from sklearn.utils import compute_class_weight\n",
    "\n",
    "from sklearn.model_selection import cross_validate\n",
    "from sklearn.model_selection import cross_val_predict\n",
    "\n",
    "from sklearn.model_selection import RepeatedStratifiedKFold\n",
    "from imblearn.pipeline import Pipeline\n",
    "from imblearn.combine import SMOTETomek\n",
    "from imblearn.under_sampling import TomekLinks\n",
    "\n",
    "sns.set_style(\"darkgrid\")\n",
    "sns.set_palette(\"Set2\")"
   ]
  },
  {
   "cell_type": "code",
   "execution_count": null,
   "id": "9dfe24b8",
   "metadata": {},
   "outputs": [],
   "source": [
    "path  = \"./dataset\""
   ]
  },
  {
   "cell_type": "code",
   "execution_count": null,
   "id": "wXKuv0HveRF_",
   "metadata": {
    "id": "wXKuv0HveRF_"
   },
   "outputs": [],
   "source": [
    "# from google.colab import drive\n",
    "# drive.mount('/content/drive')\n",
    "# path = \"/content/drive/MyDrive\"\n",
    "#df = pd.read_csv(path + \"/COVID19MEXICO2020.csv\")"
   ]
  },
  {
   "cell_type": "code",
   "execution_count": null,
   "id": "eadbcea8",
   "metadata": {
    "id": "eadbcea8"
   },
   "outputs": [],
   "source": [
    "df = pd.read_csv(path + \"/COVID19MEXICO2020.csv\")"
   ]
  },
  {
   "cell_type": "code",
   "execution_count": null,
   "id": "fa012035",
   "metadata": {
    "colab": {
     "base_uri": "https://localhost:8080/"
    },
    "id": "fa012035",
    "outputId": "ed86aa9c-a8d5-4f0b-b8b3-fc9551f37fd4"
   },
   "outputs": [],
   "source": [
    "print(f\"Data has {df.shape[0]} rows and {df.shape[1]} attributes\")"
   ]
  },
  {
   "cell_type": "code",
   "execution_count": null,
   "id": "b713f13b",
   "metadata": {
    "colab": {
     "base_uri": "https://localhost:8080/"
    },
    "id": "b713f13b",
    "outputId": "91e51c6b-d340-441c-b064-99849a89514a"
   },
   "outputs": [],
   "source": [
    "df.info()"
   ]
  },
  {
   "cell_type": "markdown",
   "id": "078a3db3",
   "metadata": {
    "id": "078a3db3"
   },
   "source": [
    "### **2.2 - Data Description** \n",
    "The dataset is composed of 39 features and 1 target variable (TIPO_PACIENTE)."
   ]
  },
  {
   "cell_type": "markdown",
   "id": "b2e34173",
   "metadata": {
    "id": "b2e34173"
   },
   "source": [
    "The target variable is a categorical variable that can be _1_ if the patient is more likely to survive or _2_ if the patient is more likely to die. \n",
    "\n",
    "We can see that the dataset is unbalanced (there are more paients who are more likely to survive than to die). This may cause our model to be biased and always predict the majority class with still retaining an higher level of accuracy. There are multiple solutions to this problem: one can be oversampling the minority class to balance the result but it may introduce dublicates and bias. Another solution can be to assign weigth to the classes and force the model to pay attention also to the minority. "
   ]
  },
  {
   "cell_type": "code",
   "execution_count": null,
   "id": "7cff27ab",
   "metadata": {
    "colab": {
     "base_uri": "https://localhost:8080/"
    },
    "id": "7cff27ab",
    "outputId": "b5b664c7-15e6-490f-b42e-d8f26a7aaee4"
   },
   "outputs": [],
   "source": [
    "df[[\"TIPO_PACIENTE\"]].value_counts()"
   ]
  },
  {
   "cell_type": "code",
   "execution_count": null,
   "id": "9bf1ec85",
   "metadata": {
    "colab": {
     "base_uri": "https://localhost:8080/",
     "height": 341
    },
    "id": "9bf1ec85",
    "outputId": "1de7ce90-12bf-4d56-e5a0-0041b992432c"
   },
   "outputs": [],
   "source": [
    "ax = df[[\"TIPO_PACIENTE\"]].value_counts().plot(kind=\"bar\")\n",
    "ax.set_xticklabels(['Likely to survive', 'Likely to die'], rotation=40)\n",
    "plt.show()"
   ]
  },
  {
   "cell_type": "code",
   "execution_count": null,
   "id": "d0357f8f",
   "metadata": {
    "id": "d0357f8f"
   },
   "outputs": [],
   "source": [
    "# categorical values have numerical identifier \n",
    "name_dict = {'SI': 1, 'NO': 2, 'DO NOT KNOW': 97, 'ANSWER REFUSED': 98, 'NOT APPLICABLE': 99}\n",
    "#name_dict = {1: 'SI', 2: 'NO', 97: 'DO NOT KNOW', 98: 'ANSWER REFUSED', 99: 'NOT APPLICABLE'}"
   ]
  },
  {
   "cell_type": "markdown",
   "id": "bd0b7a80",
   "metadata": {
    "id": "bd0b7a80"
   },
   "source": [
    "This dataset has 39 features, making it challenging to analyze it immediately. To make it easier, the features have been separated into three categories:"
   ]
  },
  {
   "cell_type": "markdown",
   "id": "7ecd291b",
   "metadata": {
    "id": "7ecd291b"
   },
   "source": [
    "- 1. Medical History:"
   ]
  },
  {
   "cell_type": "code",
   "execution_count": null,
   "id": "18ccdb7a",
   "metadata": {
    "id": "18ccdb7a"
   },
   "outputs": [],
   "source": [
    "medical_history = ['DIABETES',  #Diabetes = categorical (SI/NO/DONT KNOW/ANSWER REFUSED/NA)\n",
    "    'OBESIDAD', #Obesity = categorical (SI/NO/DONT KNOW/ANSWER REFUSED/NA)\n",
    "    'ASMA', #Asthma = categorical (SI/NO/DONT KNOW/ANSWER REFUSED/NA)\n",
    "    'HIPERTENSION', #Hypertension = categorical (SI/NO/DONT KNOW/ANSWER REFUSED/NA)\n",
    "    'RENAL_CRONICA', #Chronic renal failure = categorical (SI/NO/DONT KNOW/ANSWER REFUSED/NA)\n",
    "    'CARDIOVASCULAR', #Cardiovascular diseases = categorical (SI/NO/DONT KNOW/ANSWER REFUSED/NA)\n",
    "    'EMBARAZO', #Pregnancy = categorical (SI/NO/DONT KNOW/ANSWER REFUSED/NA)\n",
    "    'TABAQUISMO', #Smoking = categorical (SI/NO/DONT KNOW/ANSWER REFUSED/NA)\n",
    "    'EPOC', #COPD = categorical (SI/NO/DONT KNOW/ANSWER REFUSED/NA)\n",
    "    'INMUSUPR', #Immunosuppressive drugs = categorical (SI/NO/DONT KNOW/ANSWER REFUSED/NA)\n",
    "    'OTRA_COM' #Other chronic illnesses = categorical (SI/NO/DONT KNOW/ANSWER REFUSED/NA)\n",
    "]"
   ]
  },
  {
   "cell_type": "code",
   "execution_count": null,
   "id": "85b54ef1",
   "metadata": {
    "colab": {
     "base_uri": "https://localhost:8080/",
     "height": 1000
    },
    "id": "85b54ef1",
    "outputId": "98dc3675-5c68-4d40-b328-789650cf2136"
   },
   "outputs": [],
   "source": [
    "fig, ax = plt.subplots(3, 4, figsize=(20, 20))\n",
    "fig.subplots_adjust(hspace=1)\n",
    "for variable, subplot in zip(medical_history, ax.flatten()):\n",
    "    chart = sns.countplot(x=df[variable], ax=subplot)\n",
    "    chart.set_xticks(range(len(name_dict)), list(name_dict.keys()))\n",
    "    chart.set_xticklabels(chart.get_xticklabels(), rotation=90)\n",
    "fig.delaxes(ax[2,3])"
   ]
  },
  {
   "cell_type": "markdown",
   "id": "72355bf6",
   "metadata": {
    "id": "72355bf6"
   },
   "source": [
    "- We can detect an high number of NaNs in 'EMBARAZO' (this feature won't be of much help in our research due to this high number of nans).<br>\n",
    "- We can observe that the majority of the patients wasn't in poor health (2=NO). <br>\n",
    "\n",
    "<hr>"
   ]
  },
  {
   "cell_type": "markdown",
   "id": "7bc56576",
   "metadata": {
    "id": "7bc56576"
   },
   "source": [
    "- 2. Demographic Data"
   ]
  },
  {
   "cell_type": "code",
   "execution_count": null,
   "id": "2aea8b12",
   "metadata": {
    "id": "2aea8b12"
   },
   "outputs": [],
   "source": [
    "demographic_data = ['SEXO', #gender (M/F)=(1/2)\n",
    "                    'NACIONALIDAD', #nationality (1=mexican , 2=foreigner)\n",
    "                    'INDIGENA', #indigeneous = categorical (SI/NO/DONT KNOW/ANSWER REFUSED/NA)\n",
    "                    'HABLA_LENGUA_INDIG', #Indigeneous language = categorical (SI/NO/DONT KNOW/ANSWER REFUSED/NA)\n",
    "                    'MIGRANTE', #migrant = categorical (SI/NO/DONT KNOW/ANSWER REFUSED/NA)\n",
    "                    'PAIS_ORIGEN', #state of birth = categorical (text)\n",
    "                    'PAIS_NACIONALIDAD', #state of residence  = categorical (text)\n",
    "                    'ENTIDAD_NAC', #entity where patient was born = categorical (text)\n",
    "                    'ENTIDAD_RES', #entity where patient is resident = categorical (text)\n",
    "                    'EDAD', #age = numerical\n",
    "                    'MUNICIPIO_RES', #municial where patient is resident = categorical (text)\n",
    "                   ]"
   ]
  },
  {
   "cell_type": "code",
   "execution_count": null,
   "id": "1d47cee4",
   "metadata": {
    "colab": {
     "base_uri": "https://localhost:8080/",
     "height": 253
    },
    "id": "1d47cee4",
    "outputId": "43a036a6-8783-4011-9fad-08817d06f1b2"
   },
   "outputs": [],
   "source": [
    "fig, (ax1,ax2) = plt.subplots(1, 2, figsize=(8, 3))\n",
    "sns.countplot(x=df[demographic_data[0]], ax=ax1).set_xticklabels(['MALE', 'FEMALE'])\n",
    "sns.countplot(x=df[demographic_data[1]], ax=ax2).set_xticklabels(['MEXICAN', 'FOREIGNER'])"
   ]
  },
  {
   "cell_type": "code",
   "execution_count": null,
   "id": "d93264e5",
   "metadata": {
    "colab": {
     "base_uri": "https://localhost:8080/",
     "height": 448
    },
    "id": "d93264e5",
    "outputId": "31e17beb-c161-4b11-c867-e5d3a496e1f3"
   },
   "outputs": [],
   "source": [
    "fig, ax = plt.subplots(1, 3, figsize=(20, 5))\n",
    "for variable, subplot in zip(demographic_data[2:5], ax.flatten()):\n",
    "    chart = sns.countplot(x=df[variable], ax=subplot)\n",
    "    chart.set_xticks(range(len(name_dict)), list(name_dict.keys()))\n",
    "    chart.set_xticklabels(chart.get_xticklabels(), rotation=90)"
   ]
  },
  {
   "cell_type": "code",
   "execution_count": null,
   "id": "47ad090e",
   "metadata": {
    "colab": {
     "base_uri": "https://localhost:8080/",
     "height": 1000
    },
    "id": "47ad090e",
    "outputId": "9dcb8ba7-b5ed-41d0-c410-6704c2c00fb8"
   },
   "outputs": [],
   "source": [
    "fig, ax = plt.subplots(5, 1, figsize=(25, 40))\n",
    "fig.subplots_adjust(hspace=2)\n",
    "for variable, subplot in zip(demographic_data[5:10], ax.flatten()):\n",
    "    chart = sns.countplot(x=df[variable], ax=subplot)\n",
    "    chart.set_xticklabels(chart.get_xticklabels(), rotation=90)"
   ]
  },
  {
   "cell_type": "code",
   "execution_count": null,
   "id": "f9dada67",
   "metadata": {
    "colab": {
     "base_uri": "https://localhost:8080/"
    },
    "id": "f9dada67",
    "outputId": "2a8c4a8e-f63a-4d4c-a38b-a5dcf43990e1"
   },
   "outputs": [],
   "source": [
    "df[['MUNICIPIO_RES']].value_counts().sort_index()"
   ]
  },
  {
   "cell_type": "markdown",
   "id": "c1e59669",
   "metadata": {
    "id": "c1e59669"
   },
   "source": [
    "- in 'MIGRANTE' (migran) we can see many NaN's (97,98,99)\n",
    "- from the other features we can derive that most of the people is mexican\n",
    "- we can notice some outliers in the feature 'EDAD' (age): it's not likely that someone had 120 years\n",
    "- male and female are balanced\n",
    "\n",
    "<hr>"
   ]
  },
  {
   "cell_type": "markdown",
   "id": "b4d3afa6",
   "metadata": {
    "id": "b4d3afa6"
   },
   "source": [
    "- 3. Recent Medical Info"
   ]
  },
  {
   "cell_type": "code",
   "execution_count": null,
   "id": "e4cd5939",
   "metadata": {
    "id": "e4cd5939"
   },
   "outputs": [],
   "source": [
    "medical_info = ['ID_REGISTRO', #id register = categorical (text)\n",
    "                \n",
    "                'ORIGEN', #system of respiratory disease monitoring health units (USMER) = categorical (SI/NO/DONT KNOW/ANSWER REFUSED/NA)\n",
    "                'INTUBADO', #if the patient required intubation = categorical (SI/NO/DONT KNOW/ANSWER REFUSED/NA)\n",
    "                'NEUMONIA', #PNEUMONIA = categorical (SI/NO/DONT KNOW/ANSWER REFUSED/NA)\n",
    "                'OTRO_CASO', #if it has had contact with other covid cases = categorical (SI/NO/DONT KNOW/ANSWER REFUSED/NA)\n",
    "                'TOMA_MUESTRA_LAB', #sample lab taken = categorical (SI/NO/DONT KNOW/ANSWER REFUSED/NA)\n",
    "                'RESULTADO_LAB', #test covid19 result = categorical (COVID/HEALTHY/DONT KNOW/ANSWER REFUSED/NA)\n",
    "                'TOMA_MUESTRA_ANTIGENO', #test antigeno taken = categorical (SI/NO/DONT KNOW/ANSWER REFUSED/NA)\n",
    "                'RESULTADO_ANTIGENO', #test covid19 antigeno result = categorical (COVID/HEALTHY/DONT KNOW/ANSWER REFUSED/NA)\n",
    "                'UCI',#if the patients was in the intense unit = categorical (SI/NO/DONT KNOW/ANSWER REFUSED/NA)\n",
    "                \n",
    "                'CLASIFICACION_FINAL', #Identifies if the patient is a case of COVID-19 = categorical (1-7)\n",
    "                'ENTIDAD_UM', #entity of the medical unit = categorical\n",
    "                'TIPO_PACIENTE', #type of attention that the patient has received on arrival = categorical (Ambulatorio/hospitalizado)\n",
    "                \n",
    "                'FECHA_SINTOMAS', #date of start symbols (YYYY-MM-DD)\n",
    "                'FECHA_INGRESO', #date of arrival into medical unit (YYYY-MM-DD)\n",
    "                'FECHA_DEF', #date of death (YYYY-MM-DD)\n",
    "]"
   ]
  },
  {
   "cell_type": "code",
   "execution_count": null,
   "id": "40278a0b",
   "metadata": {
    "colab": {
     "base_uri": "https://localhost:8080/",
     "height": 1000
    },
    "id": "40278a0b",
    "outputId": "717314f2-8fcd-4568-c002-3f2ff0cb9e83"
   },
   "outputs": [],
   "source": [
    "fig, ax = plt.subplots(2, 4, figsize=(20, 15))\n",
    "fig.subplots_adjust(hspace=1)\n",
    "for variable, subplot in zip(medical_info[1:9], ax.flatten()):\n",
    "    chart = sns.countplot(x=df[variable], ax=subplot)\n",
    "    chart.set_xticks(range(len(name_dict)), list(name_dict.keys()))\n",
    "    chart.set_xticklabels(chart.get_xticklabels(), rotation=90)"
   ]
  },
  {
   "cell_type": "code",
   "execution_count": null,
   "id": "93f6433d",
   "metadata": {
    "colab": {
     "base_uri": "https://localhost:8080/",
     "height": 308
    },
    "id": "93f6433d",
    "outputId": "fffadc27-15ed-491a-8921-71a63a07589f"
   },
   "outputs": [],
   "source": [
    "sns.countplot(x=df['CLASIFICACION_FINAL'])"
   ]
  },
  {
   "cell_type": "code",
   "execution_count": null,
   "id": "0de72a04",
   "metadata": {
    "id": "0de72a04"
   },
   "outputs": [],
   "source": [
    "# death is set to 9999-99-99 if patient is not dead\n",
    "df[medical_info[-1]].value_counts()\n",
    "\n",
    "#convert into nan to plot it\n",
    "df.replace('9999-99-99', np.nan, inplace=True)"
   ]
  },
  {
   "cell_type": "code",
   "execution_count": null,
   "id": "72886885",
   "metadata": {
    "id": "72886885"
   },
   "outputs": [],
   "source": [
    "# convert to date\n",
    "for f in medical_info[13:16]:\n",
    "    df[f] =  pd.to_datetime(df[f])"
   ]
  },
  {
   "cell_type": "code",
   "execution_count": null,
   "id": "56e1750d",
   "metadata": {
    "colab": {
     "base_uri": "https://localhost:8080/",
     "height": 557
    },
    "id": "56e1750d",
    "outputId": "db474a52-acca-44ce-8a97-20b55aa657b6"
   },
   "outputs": [],
   "source": [
    "fig, ax = plt.subplots(2,2, figsize=(20, 10))\n",
    "for variable, subplot in zip(medical_info[13:16], ax.flatten()):\n",
    "    chart = sns.kdeplot(x=df[variable], ax=subplot)\n",
    "fig.delaxes(ax[1,1])"
   ]
  },
  {
   "cell_type": "markdown",
   "id": "5a00985e",
   "metadata": {
    "id": "5a00985e"
   },
   "source": [
    "- From the 'FECHA_SINTOMAS' we can clearly see a peak around the lasts month of the 2020, meaning covid19 here are a massive spread. On the same dates, we can see that many people went to the hospital ('FECHA_INGRESO'). The 'Start of symptoms' and 'Arrival to the hospital' curve are similar: there is a correlation between the two. \n",
    "\n",
    "- The peak for the deaths, on the other hand, are arount the lasts month of 2020 as well but also on the summer of 2020."
   ]
  },
  {
   "cell_type": "markdown",
   "id": "59a83baa",
   "metadata": {
    "id": "59a83baa"
   },
   "source": [
    "### **2.3 - Data Exploration:**"
   ]
  },
  {
   "cell_type": "code",
   "execution_count": null,
   "id": "2456f3d2",
   "metadata": {
    "id": "2456f3d2"
   },
   "outputs": [],
   "source": [
    "# we are going to consider 97,98,99 as NaN's values since they correspond to Don't know, Answer Refused, Not Applicable\n",
    "# and this values are of no use to us\n",
    "df.replace([97, 98, 99, \"97\", \"98\", \"99\"], np.nan, inplace=True)"
   ]
  },
  {
   "cell_type": "code",
   "execution_count": null,
   "id": "f19cdbfc",
   "metadata": {
    "id": "f19cdbfc",
    "outputId": "303b994a-f5c7-4a8f-9e14-91d1ff2eb0c9"
   },
   "outputs": [],
   "source": [
    "sections = [medical_history, medical_info, demographic_data]\n",
    "\n",
    "fig, ax = plt.subplots(3,1, figsize=(10, 15))\n",
    "fig.subplots_adjust(hspace=2)\n",
    "\n",
    "for features, subplot in zip(sections, ax.flatten()):\n",
    "    sns.heatmap(df[features].isna(), ax = subplot)"
   ]
  },
  {
   "cell_type": "markdown",
   "id": "778ec053",
   "metadata": {
    "id": "778ec053"
   },
   "source": [
    "From this heatmap we can individualize with more clarity the columns with high percentage of nan values: like 'MIGRANTE' for example and 'UCI', 'RESULTADO ANTIGENO', 'INTUBADO',  'EMBARAZO'. Columns that have an high percentage of nan values are no useful to our problem. They will be removed in the future. \n",
    "\n",
    "Due to the nature of our problem (decide is a patient is likely to die or to survive) we won't know the value of the column 'date of death' in real life cases. So we can remove it. "
   ]
  },
  {
   "cell_type": "markdown",
   "id": "8438b5b1",
   "metadata": {
    "id": "8438b5b1"
   },
   "source": [
    "1. How many days between the start of sintoms and the ingress at the hospital?"
   ]
  },
  {
   "cell_type": "code",
   "execution_count": null,
   "id": "cca78161",
   "metadata": {
    "id": "cca78161"
   },
   "outputs": [],
   "source": [
    "df['DAYS_IN_BETWEEN'] = (df['FECHA_INGRESO'] - df['FECHA_SINTOMAS']).astype('timedelta64[D]').astype('int64')"
   ]
  },
  {
   "cell_type": "code",
   "execution_count": null,
   "id": "fb9cc54d",
   "metadata": {
    "id": "fb9cc54d",
    "outputId": "eb5b8231-6ba6-46c0-98b9-9eecb248d4b0"
   },
   "outputs": [],
   "source": [
    "df['DAYS_IN_BETWEEN'].value_counts().sort_index()"
   ]
  },
  {
   "cell_type": "code",
   "execution_count": null,
   "id": "cee5fcf8",
   "metadata": {
    "id": "cee5fcf8",
    "outputId": "f9a385eb-4017-4d8d-ccda-09e82cc88735"
   },
   "outputs": [],
   "source": [
    "plt.figure(figsize=(25, 8))\n",
    "cplot = sns.countplot(x=df[\"DAYS_IN_BETWEEN\"])\n",
    "cplot.set_xticklabels(cplot.get_xticklabels(), rotation=90)\n",
    "cplot.set_title('Days between start of syntoms and hospitalization')"
   ]
  },
  {
   "cell_type": "markdown",
   "id": "3621524e",
   "metadata": {
    "id": "3621524e"
   },
   "source": [
    "2. Is there a correlation between the days and the death?"
   ]
  },
  {
   "cell_type": "code",
   "execution_count": null,
   "id": "50c1ac6f",
   "metadata": {
    "id": "50c1ac6f",
    "outputId": "cc344906-0da4-4dac-e1eb-572d84ded68d"
   },
   "outputs": [],
   "source": [
    "df_dead = df[['DAYS_IN_BETWEEN', 'FECHA_DEF']].copy()\n",
    "df_dead['DEAD'] = np.where(df_dead[['FECHA_DEF']].isna(), False, True)\n",
    "df_dead[['DAYS_IN_BETWEEN', 'DEAD']].corr()"
   ]
  },
  {
   "cell_type": "markdown",
   "id": "d8145839",
   "metadata": {
    "id": "d8145839"
   },
   "source": [
    "We can say that no, there is not a visible correlation. Since the correlation between the two features is close to 0. "
   ]
  },
  {
   "cell_type": "markdown",
   "id": "eb30e685",
   "metadata": {
    "id": "eb30e685"
   },
   "source": [
    "3. Explore the age of people and their classification"
   ]
  },
  {
   "cell_type": "code",
   "execution_count": null,
   "id": "f8884062",
   "metadata": {
    "id": "f8884062",
    "outputId": "8e1a449c-1b3a-4065-9c76-183ae171294f"
   },
   "outputs": [],
   "source": [
    "violin_plot = sns.violinplot(x=df[\"TIPO_PACIENTE\"], y = df['EDAD'])\n",
    "violin_plot.set_xticklabels(['Likely to survive', 'Likely to die'])"
   ]
  },
  {
   "cell_type": "markdown",
   "id": "e2bfe176",
   "metadata": {
    "id": "e2bfe176"
   },
   "source": [
    "From the violion plot above, we can conclude that most of the people that were hospitalized (likely to die) had 60 years. The distrubution of people that were considered likely to die grows with the age until 60. \n",
    "\n",
    "Most of the people that were likely to survive has around 20-40 years instead."
   ]
  },
  {
   "cell_type": "markdown",
   "id": "1d5cc392",
   "metadata": {
    "id": "1d5cc392"
   },
   "source": [
    "4. Is the distribution of people that were likely to die/survive different between man and women?"
   ]
  },
  {
   "cell_type": "code",
   "execution_count": null,
   "id": "03c39e6a",
   "metadata": {
    "id": "03c39e6a",
    "outputId": "b41bb0c2-1c99-47eb-bbbe-d30ae2793957"
   },
   "outputs": [],
   "source": [
    "fig, (ax1, ax2) = plt.subplots(1,2, figsize=(15, 5))\n",
    "\n",
    "c1 = sns.kdeplot(data=df[df['TIPO_PACIENTE']==1], x='EDAD', hue = 'SEXO', fill=True, ax=ax1)\n",
    "c1.set_title(\"Likely to survive\")\n",
    "c2 = sns.kdeplot(data=df[df['TIPO_PACIENTE']==2], x='EDAD', hue = 'SEXO', fill=True, ax=ax2)\n",
    "c2.set_title(\"Likely to die\")\n",
    "\n",
    "c1.legend(title='SEXO', labels=['MALE', 'FEMALE'])\n",
    "c2.legend(title='SEXO', labels=['MALE', 'FEMALE'])\n",
    "\n",
    "plt.show()"
   ]
  },
  {
   "cell_type": "markdown",
   "id": "ba339696",
   "metadata": {
    "id": "ba339696"
   },
   "source": [
    "From the density plot we can see that the percentage of mens in their 60 that were likely to die is higher than womens. However the difference in sex between the ones that were likely to survive is minimal."
   ]
  },
  {
   "cell_type": "code",
   "execution_count": null,
   "id": "0e145a2c",
   "metadata": {
    "id": "0e145a2c",
    "outputId": "366d02ca-b2ca-4efb-b8a0-a93d6d0330c8"
   },
   "outputs": [],
   "source": [
    "# correlation plot\n",
    "df_corr = df.copy()\n",
    "df_corr.pop('TIPO_PACIENTE')\n",
    "\n",
    "plt.figure(figsize=(25, 25))\n",
    "corr_matrix=df_corr.corr()\n",
    "\n",
    "mask = np.zeros_like(corr_matrix)\n",
    "mask[np.triu_indices_from(mask)] = True\n",
    "\n",
    "sns.heatmap(corr_matrix, mask=mask, square=True, linewidth=.5, annot=True)"
   ]
  },
  {
   "cell_type": "markdown",
   "id": "46210c61",
   "metadata": {
    "id": "46210c61"
   },
   "source": [
    "The correlation plot show us wich features are highly correlated between themselves and which not. This can be useful because if we notice that two features are highly correlated (the more the correlation close to 1/-1, the more correlated) we can delete one and leave the other without removing information but improving training time.\n",
    "\n",
    "For example 'ENTIAD_RES' and 'ENTIAD_UM' have an high correlation (0.97) so we can remove 'ENTIAD_RES' and keep 'ENTIAD_UM'."
   ]
  },
  {
   "cell_type": "code",
   "execution_count": null,
   "id": "6531ae10",
   "metadata": {},
   "outputs": [],
   "source": [
    "df.drop('DAYS_IN_BETWEEN', axis=1, inplace=True)"
   ]
  },
  {
   "cell_type": "markdown",
   "id": "effc5332",
   "metadata": {
    "id": "effc5332"
   },
   "source": [
    "# 3. Data Preparation"
   ]
  },
  {
   "cell_type": "code",
   "execution_count": null,
   "id": "-tD8hB6rk0Tv",
   "metadata": {
    "id": "-tD8hB6rk0Tv",
    "outputId": "53a6cd57-fb68-478b-f5a2-74224818af38"
   },
   "outputs": [],
   "source": [
    "import gc; gc.collect()"
   ]
  },
  {
   "cell_type": "markdown",
   "id": "q3_ST0_8nqDf",
   "metadata": {
    "id": "q3_ST0_8nqDf"
   },
   "source": [
    "### **3.0 - Remove un-necessary columns**"
   ]
  },
  {
   "cell_type": "code",
   "execution_count": null,
   "id": "bc621920",
   "metadata": {
    "id": "bc621920"
   },
   "outputs": [],
   "source": [
    "# remove the id in the register\n",
    "df.drop(['ID_REGISTRO'], axis=1, inplace=True)\n",
    "# remove date of insert into register\n",
    "df.drop(['FECHA_ACTUALIZACION'], axis=1, inplace=True)\n",
    "# date of death - if we want to predict if a patient is likely to die or survive, we won't have this feature when making real time prediction\n",
    "df.drop(['FECHA_DEF'], axis=1, inplace=True)"
   ]
  },
  {
   "cell_type": "markdown",
   "id": "9oc43Bo55JgF",
   "metadata": {
    "id": "9oc43Bo55JgF"
   },
   "source": [
    "### **3.1 - Remove NaNs**"
   ]
  },
  {
   "cell_type": "code",
   "execution_count": null,
   "id": "4ZiXYZ_u5UZP",
   "metadata": {
    "id": "4ZiXYZ_u5UZP",
    "outputId": "e2b11535-d016-49ec-edc7-61b7c7bbae58"
   },
   "outputs": [],
   "source": [
    "df.isna().mean()*100"
   ]
  },
  {
   "cell_type": "markdown",
   "id": "03449cba",
   "metadata": {},
   "source": [
    "#### **3.1.1 - Logical conclusions**"
   ]
  },
  {
   "cell_type": "markdown",
   "id": "01de5f1e",
   "metadata": {
    "id": "01de5f1e"
   },
   "source": [
    "Before deciding the operations to make on the nan columns, based on the data gathered, we will manually substitute some nans based on some researches on the dataset."
   ]
  },
  {
   "cell_type": "code",
   "execution_count": null,
   "id": "60dbfaf9",
   "metadata": {
    "id": "60dbfaf9"
   },
   "outputs": [],
   "source": [
    "# if the patient was sent home, the column 'INTUBADO' won't have any value because the patient wasn't intubated but sent home\n",
    "df[df['INTUBADO'].isna()].head(5)\n",
    "df.loc[(df['INTUBADO'].isna() & df['TIPO_PACIENTE']==1), 'INTUBADO'] = 2"
   ]
  },
  {
   "cell_type": "code",
   "execution_count": null,
   "id": "91e17d94",
   "metadata": {
    "id": "91e17d94"
   },
   "outputs": [],
   "source": [
    "# If you didn't change the sex legally on papers, if you're assigned as a man on the entrace of the Hospital, you can't be pregnant\n",
    "df[df['EMBARAZO'].isna() & df['SEXO']==1] # sexo = gender (M/F)=(1/2)\n",
    "df.loc[(df['EMBARAZO'].isna() & df['SEXO']==1), 'EMBARAZO'] = 2"
   ]
  },
  {
   "cell_type": "code",
   "execution_count": null,
   "id": "323f0948",
   "metadata": {
    "id": "323f0948"
   },
   "outputs": [],
   "source": [
    "# If you are a migrant, your nationality won't be Mexican\n",
    "df[df['MIGRANTE'].isna()]\n",
    "df.loc[(df['MIGRANTE'].isna() & df['NACIONALIDAD']==1), 'MIGRANTE'] = 2 # if your nationality is mexican, you're not a migrant\n",
    "df.loc[(df['MIGRANTE'].isna() & df['NACIONALIDAD']==2), 'MIGRANTE'] = 1 # if your nationality is not mexican, you're a migrant"
   ]
  },
  {
   "cell_type": "markdown",
   "id": "e203efcd",
   "metadata": {},
   "source": [
    "#### **3.2 - Traditional Methods**"
   ]
  },
  {
   "cell_type": "code",
   "execution_count": null,
   "id": "25yywxQc5Own",
   "metadata": {
    "id": "25yywxQc5Own"
   },
   "outputs": [],
   "source": [
    "# Delete columns containing either 65% or more than 65% NaN Values\n",
    "perc = 65.0\n",
    "min_count =  int(((100-perc)/100)*df.shape[0] + 1)\n",
    "df.dropna(axis=1, thresh=min_count, inplace=True)"
   ]
  },
  {
   "cell_type": "code",
   "execution_count": null,
   "id": "TdbzwvXE5kW7",
   "metadata": {
    "id": "TdbzwvXE5kW7"
   },
   "outputs": [],
   "source": [
    "# Delete rows containing more than 10/39 NaN values\n",
    "df.dropna(thresh=df.shape[1] - 10, axis=0, inplace=True)"
   ]
  },
  {
   "cell_type": "code",
   "execution_count": null,
   "id": "kF2WTic06FNh",
   "metadata": {
    "id": "kF2WTic06FNh"
   },
   "outputs": [],
   "source": [
    "# for columns with percentage of nan<10%, we are going to impute values using the simple imputer (median or most frequent)\n",
    "nan_columns = df.loc[:, df.isna().any()].loc[:, df.isna().mean()<0.10].columns.tolist()\n",
    "\n",
    "for col in nan_columns:\n",
    "    if is_numeric_dtype(df[col]):\n",
    "        mean_imputer = SimpleImputer(strategy='median')\n",
    "        df[col] = mean_imputer.fit_transform(df[col].values.reshape(-1,1))\n",
    "    else:\n",
    "        mean_imputer = SimpleImputer(strategy='most_frequent')\n",
    "        df[col] = mean_imputer.fit_transform(df[col].values.reshape(-1,1))"
   ]
  },
  {
   "cell_type": "code",
   "execution_count": null,
   "id": "qG0zF2HsAxro",
   "metadata": {
    "id": "qG0zF2HsAxro"
   },
   "outputs": [],
   "source": [
    "# get columns that still have nan values\n",
    "nans_columns = df.loc[:, df.isna().any()].columns.tolist()\n",
    "nans_columns"
   ]
  },
  {
   "cell_type": "code",
   "execution_count": null,
   "id": "TiFGV961_ZMS",
   "metadata": {
    "id": "TiFGV961_ZMS"
   },
   "outputs": [],
   "source": [
    "# for more than 10% missing values we are going to use MICE\n",
    "mice_imputer = IterativeImputer(estimator=linear_model.BayesianRidge(), n_nearest_features=None, imputation_order='ascending')\n",
    "\n",
    "df_new = pd.DataFrame()\n",
    "\n",
    "for col in nans_columns:\n",
    "    df_new[col] = pd.DataFrame(mice_imputer.fit_transform(df[col].values.reshape(-1, 1)), columns=[col])"
   ]
  },
  {
   "cell_type": "code",
   "execution_count": null,
   "id": "jkHAHmVMBRuQ",
   "metadata": {
    "id": "jkHAHmVMBRuQ"
   },
   "outputs": [],
   "source": [
    "df.drop(nans_columns, inplace=True, axis=1)"
   ]
  },
  {
   "cell_type": "code",
   "execution_count": null,
   "id": "cb911be8",
   "metadata": {},
   "outputs": [],
   "source": [
    "df = pd.concat([df.reset_index(), df_new.reset_index()], axis=1)\n",
    "df.drop('index', axis=1, inplace=True)"
   ]
  },
  {
   "cell_type": "markdown",
   "id": "9c10c090",
   "metadata": {
    "id": "9c10c090"
   },
   "source": [
    "### **3.2 - Convert Categorical Data to Numerical**"
   ]
  },
  {
   "cell_type": "code",
   "execution_count": null,
   "id": "e98634be",
   "metadata": {
    "id": "e98634be",
    "outputId": "b8ae6e2d-3851-4097-8d1c-3f61d402011c"
   },
   "outputs": [],
   "source": [
    "obj_columns = df.select_dtypes(exclude=np.number).columns.tolist()\n",
    "obj_columns"
   ]
  },
  {
   "cell_type": "code",
   "execution_count": null,
   "id": "4c10b3cc",
   "metadata": {
    "id": "4c10b3cc",
    "outputId": "9ed03686-38a1-4973-da69-0d95d22d4f11"
   },
   "outputs": [],
   "source": [
    "df_cols = pd.DataFrame()\n",
    "\n",
    "for col in obj_columns:\n",
    "    labels = LabelEncoder().fit(df[col]).transform(df[col])\n",
    "    df_cols = pd.concat([df_cols, pd.DataFrame(labels, columns=[col])], axis=1)\n",
    "    \n",
    "df_cols.head()"
   ]
  },
  {
   "cell_type": "code",
   "execution_count": null,
   "id": "4cbb1c79",
   "metadata": {
    "id": "4cbb1c79"
   },
   "outputs": [],
   "source": [
    "df.drop(obj_columns, axis=1, inplace=True)"
   ]
  },
  {
   "cell_type": "code",
   "execution_count": null,
   "id": "ec80cba4",
   "metadata": {},
   "outputs": [],
   "source": [
    "df = pd.concat([df, df_cols], axis=1)"
   ]
  },
  {
   "cell_type": "markdown",
   "id": "b5845206",
   "metadata": {
    "id": "b5845206"
   },
   "source": [
    "### **3.4 - Remove outliers**"
   ]
  },
  {
   "cell_type": "code",
   "execution_count": null,
   "id": "lS1ggZ-aVTIW",
   "metadata": {
    "id": "lS1ggZ-aVTIW",
    "outputId": "f9b0faf9-51b9-46f8-a3ed-a7ce4ad7afbb"
   },
   "outputs": [],
   "source": [
    "df.describe()"
   ]
  },
  {
   "cell_type": "code",
   "execution_count": null,
   "id": "3naN4YUbVmws",
   "metadata": {
    "id": "3naN4YUbVmws",
    "outputId": "42c1a43b-5798-42c0-cd5b-ad8e0442f7fa"
   },
   "outputs": [],
   "source": [
    "# outliers in edad\n",
    "q3 = df['EDAD'].quantile(.75)\n",
    "q1 = df['EDAD'].quantile(.25)\n",
    "iqr = q3-q1\n",
    "topcut = q3+1.5*iqr\n",
    "lowcut = q1-1.5*iqr\n",
    "\n",
    "ax = sns.boxplot(x='SEXO', y='EDAD', data=df)\n",
    "ax.axhline(topcut,c='red',ls='--')\n",
    "ax.axhline(lowcut,c='orange',ls='--')"
   ]
  },
  {
   "cell_type": "code",
   "execution_count": null,
   "id": "bea96ce0",
   "metadata": {},
   "outputs": [],
   "source": [
    "columns = df.columns\n",
    "columns = columns.drop('TIPO_PACIENTE')\n",
    "columns"
   ]
  },
  {
   "cell_type": "code",
   "execution_count": null,
   "id": "37e01a13",
   "metadata": {},
   "outputs": [],
   "source": [
    "# using IQR range\n",
    "for col in columns:\n",
    "    q3 = df[col].quantile(.75)\n",
    "    q1 = df[col].quantile(.25)\n",
    "    iqr = q3-q1\n",
    "    topcut = q3+1.5*iqr\n",
    "    lowcut = q1-1.5*iqr\n",
    "\n",
    "    df.drop(df.index[df[col]>topcut], inplace=True)\n",
    "    df.drop(df.index[df[col]<lowcut], inplace=True)"
   ]
  },
  {
   "cell_type": "markdown",
   "id": "829974f5",
   "metadata": {
    "id": "829974f5"
   },
   "source": [
    "### **3.3 Normalization:** <br>"
   ]
  },
  {
   "cell_type": "code",
   "execution_count": null,
   "id": "2561d275",
   "metadata": {
    "id": "2561d275",
    "outputId": "66bd2c7c-c988-4a50-d9f9-245c13e6a295"
   },
   "outputs": [],
   "source": [
    "# we need normalization for the KNN imputer\n",
    "scaler = MinMaxScaler()\n",
    "df = pd.DataFrame(scaler.fit_transform(df), columns = df.columns)"
   ]
  },
  {
   "cell_type": "markdown",
   "id": "b376afc0",
   "metadata": {
    "id": "b376afc0"
   },
   "source": [
    "### **3.5 - Remove redundant columns**"
   ]
  },
  {
   "cell_type": "code",
   "execution_count": null,
   "id": "135eddf2",
   "metadata": {},
   "outputs": [],
   "source": [
    "X = df.copy()\n",
    "y = X.pop('TIPO_PACIENTE')"
   ]
  },
  {
   "cell_type": "code",
   "execution_count": null,
   "id": "1QdAHvB1JvDD",
   "metadata": {
    "id": "1QdAHvB1JvDD",
    "outputId": "d23f6cf4-0432-46e0-9445-39304829043a"
   },
   "outputs": [],
   "source": [
    "# remove columns that are higly correlated between themselves\n",
    "cor_matrix = X.corr().abs()\n",
    "upper_tri = cor_matrix.where(np.triu(np.ones(cor_matrix.shape),k=1).astype(bool))\n",
    "to_drop = [column for column in upper_tri.columns if any(upper_tri[column] > 0.75)]\n",
    "to_drop"
   ]
  },
  {
   "cell_type": "code",
   "execution_count": null,
   "id": "laC5izYlLhtw",
   "metadata": {
    "id": "laC5izYlLhtw"
   },
   "outputs": [],
   "source": [
    "X.drop(to_drop, axis=1, inplace=True)"
   ]
  },
  {
   "cell_type": "code",
   "execution_count": null,
   "id": "fc2a5ef2",
   "metadata": {},
   "outputs": [],
   "source": [
    "# save result \n",
    "df = pd.concat([X, y], axis=1)"
   ]
  },
  {
   "cell_type": "code",
   "execution_count": null,
   "id": "48c56009",
   "metadata": {},
   "outputs": [],
   "source": [
    "df.to_csv(path + \"/COVID2022_processed.csv\")"
   ]
  },
  {
   "cell_type": "markdown",
   "id": "2cac5c1e",
   "metadata": {
    "id": "2cac5c1e"
   },
   "source": [
    "### **3.6- Feature Selection**"
   ]
  },
  {
   "cell_type": "markdown",
   "id": "80Be9vILYQRP",
   "metadata": {
    "id": "80Be9vILYQRP"
   },
   "source": [
    "The curse of dimensionality is a problem that occurs when the dimensionality rises and the volume of space expands so quickly that available data becomes sparse. The amount of data required to produce a reliable conclusion sometimes climbs exponentially with dimensionality. Therefore it's useful to reduce the dimensionality of the data (reduce the features) to avoid this problem. Also, dimensionality reduction is useful for reducing overfitting, improving accuracy and reducing training times."
   ]
  },
  {
   "cell_type": "markdown",
   "id": "9f4e1f1d",
   "metadata": {},
   "source": [
    "#### **3.6.1 - Principal Component Analysis**"
   ]
  },
  {
   "cell_type": "code",
   "execution_count": null,
   "id": "UPxJ3CSCc4m0",
   "metadata": {
    "id": "UPxJ3CSCc4m0"
   },
   "outputs": [],
   "source": [
    "# build the covariance matrix that represents the correlation between two variables\n",
    "df_cov_matrix = np.cov(X.T)"
   ]
  },
  {
   "cell_type": "code",
   "execution_count": null,
   "id": "wJJr7IKEc9BP",
   "metadata": {
    "id": "wJJr7IKEc9BP",
    "outputId": "61ed976e-0110-4695-e6b3-eae2e6a5323c"
   },
   "outputs": [],
   "source": [
    "# calculate eigenvalues and eigenvectors\n",
    "eig_vals, eig_vecs = np.linalg.eig(df_cov_matrix)\n",
    "eig_pairs = [(np.abs(eig_vals[i]), eig_vecs[:,i]) for i in range(len(eig_vals))]\n",
    "\n",
    "total = sum(eig_vals)\n",
    "var_exp = [(i / total)*100 for i in sorted(eig_vals, reverse=True)]\n",
    "print(f\"Variance captured by each component is: {var_exp}\")\n",
    "\n",
    "cum_var_exp = np.cumsum(var_exp)\n",
    "print(\"Cumulative variance captured as we travel with each component\",cum_var_exp)"
   ]
  },
  {
   "cell_type": "code",
   "execution_count": null,
   "id": "9-5u3x1XdETW",
   "metadata": {
    "id": "9-5u3x1XdETW",
    "outputId": "42644025-30f3-496b-ddd2-a39806d6495c"
   },
   "outputs": [],
   "source": [
    "pca = PCA().fit(X)\n",
    "plt.plot(np.cumsum(pca.explained_variance_ratio_)[:15])\n",
    "plt.xlabel(\"No of components\")\n",
    "plt.ylabel(\"Cumulative explained variance\")\n",
    "plt.show()"
   ]
  },
  {
   "cell_type": "code",
   "execution_count": null,
   "id": "kjl-qGhQYNG-",
   "metadata": {
    "id": "kjl-qGhQYNG-"
   },
   "outputs": [],
   "source": [
    "n_components = 5\n",
    "pca = PCA(n_components = n_components) # the first 5 components capture enough variance\n",
    "pcs = pca.fit_transform(X)\n",
    "X_new = pd.DataFrame(data=pcs, columns=[f\"PC{i}\" for i in range(0,n_components)])"
   ]
  },
  {
   "cell_type": "code",
   "execution_count": null,
   "id": "Ux1WvOVyixNZ",
   "metadata": {
    "id": "Ux1WvOVyixNZ",
    "outputId": "1298207e-ecc8-4c49-8396-2a061bab1606"
   },
   "outputs": [],
   "source": [
    "df_pca = pd.concat([X_new.reset_index(), y.reset_index()], axis=1)\n",
    "df_pca.drop('index', axis=1, inplace=True)\n",
    "df_pca.head()"
   ]
  },
  {
   "cell_type": "code",
   "execution_count": null,
   "id": "1917035a",
   "metadata": {
    "id": "1917035a",
    "outputId": "2f0cb30b-b06c-474f-946e-6914e8c9f6c9"
   },
   "outputs": [],
   "source": [
    "print(f\"Original Dataset features len: {df.shape[1]}\")\n",
    "print(f\"PCA Dataset features len: {df_pca.shape[1]}\")"
   ]
  },
  {
   "cell_type": "code",
   "execution_count": null,
   "id": "6a0c2e48",
   "metadata": {},
   "outputs": [],
   "source": [
    "df_pca.to_csv(path + '/COVID2022_processed_PCA.csv')"
   ]
  },
  {
   "cell_type": "markdown",
   "id": "5003a22e",
   "metadata": {},
   "source": [
    "#### **3.6.2 - Feature Selection**"
   ]
  },
  {
   "cell_type": "code",
   "execution_count": null,
   "id": "592bc4b5",
   "metadata": {},
   "outputs": [],
   "source": [
    "X_train, X_test, y_train, y_test = train_test_split(X, y, test_size=.33, shuffle=True, random_state=42)"
   ]
  },
  {
   "cell_type": "code",
   "execution_count": null,
   "id": "d01b0eaf",
   "metadata": {},
   "outputs": [],
   "source": [
    "model = GradientBoostingRegressor(learning_rate=0.05, max_depth=5, n_estimators=500, min_samples_split=5, n_iter_no_change=10)\n",
    "model.fit(X_train, y_train)\n",
    "\n",
    "rmse = np.sqrt(mean_squared_error(y_test, model.predict(X_test)))\n",
    "rmse"
   ]
  },
  {
   "cell_type": "code",
   "execution_count": null,
   "id": "0577a813",
   "metadata": {},
   "outputs": [],
   "source": [
    "# permutation importance \n",
    "\n",
    "perm_importance = permutation_importance(model, X_test, y_test, n_repeats=10, random_state=42)\n",
    "\n",
    "sorted_idx = perm_importance.importances_mean.argsort()"
   ]
  },
  {
   "cell_type": "code",
   "execution_count": null,
   "id": "7e8e5cfd",
   "metadata": {},
   "outputs": [],
   "source": [
    "fig = plt.figure(figsize=(12, 6))\n",
    "plt.barh(range(len(sorted_idx)), perm_importance.importances_mean[sorted_idx], align='center', log=True)\n",
    "plt.yticks(range(len(sorted_idx)), np.array(X_test.columns)[sorted_idx])\n",
    "plt.title('Permutation Importance')"
   ]
  },
  {
   "cell_type": "markdown",
   "id": "a6b41c2a",
   "metadata": {},
   "source": [
    "from the plot we can see that the only important features are 'EDAD', 'SECTOR', 'ORIGEN', 'ENTIDAD_UM', 'OTRO_CASO', 'FECHA_INGRESSO', 'MUNICIPIO_RES', 'CLASSIFICATION_FINAL', 'SEXO'"
   ]
  },
  {
   "cell_type": "code",
   "execution_count": null,
   "id": "df2ea901",
   "metadata": {},
   "outputs": [],
   "source": [
    "df_fs = df[['EDAD', 'SECTOR', 'ORIGEN', 'ENTIDAD_UM', 'OTRO_CASO', 'FECHA_INGRESO', 'MUNICIPIO_RES', 'CLASIFICACION_FINAL', 'SEXO', 'TIPO_PACIENTE']]"
   ]
  },
  {
   "cell_type": "code",
   "execution_count": null,
   "id": "4afdab80",
   "metadata": {},
   "outputs": [],
   "source": [
    "df_fs.to_csv(path + '/COVID2022_processed_feature_selection.csv')"
   ]
  },
  {
   "cell_type": "markdown",
   "id": "0b0b6bf5",
   "metadata": {
    "id": "0b0b6bf5"
   },
   "source": [
    "# 4. Modelling"
   ]
  },
  {
   "cell_type": "code",
   "execution_count": null,
   "id": "dc7718b4",
   "metadata": {},
   "outputs": [],
   "source": [
    "df = pd.read_csv(path + '/COVID2022_processed.csv')\n",
    "df_fs = pd.read_csv(path + '/COVID2022_processed_feature_selection.csv')\n",
    "df_pca = pd.read_csv(path + '/COVID2022_processed_PCA.csv')"
   ]
  },
  {
   "cell_type": "code",
   "execution_count": null,
   "id": "3767547c",
   "metadata": {},
   "outputs": [],
   "source": [
    "# initial sample the dataset to choose a model\n",
    "df_s = df.sample(frac=0.3)\n",
    "len(df_s)"
   ]
  },
  {
   "cell_type": "code",
   "execution_count": null,
   "id": "f1f60fe9",
   "metadata": {},
   "outputs": [],
   "source": [
    "X = df_s.copy()\n",
    "y = X.pop('TIPO_PACIENTE')"
   ]
  },
  {
   "cell_type": "markdown",
   "id": "cd67ef83",
   "metadata": {},
   "source": [
    "#### **4.1 Nearest neighbor**"
   ]
  },
  {
   "cell_type": "markdown",
   "id": "cc478a30",
   "metadata": {},
   "source": [
    "#### **4.2 Bayesian Classifier**"
   ]
  },
  {
   "cell_type": "markdown",
   "id": "d52e26c9",
   "metadata": {},
   "source": [
    "#### **4.3 Decision Trees**"
   ]
  },
  {
   "cell_type": "markdown",
   "id": "98f5de59",
   "metadata": {},
   "source": [
    "#### **4.4 Tree ensembles**"
   ]
  },
  {
   "cell_type": "markdown",
   "id": "db8083d9",
   "metadata": {},
   "source": [
    "#### **4.5 Support Vector Machines**"
   ]
  },
  {
   "cell_type": "markdown",
   "id": "c921969e",
   "metadata": {},
   "source": [
    "#### **4.5 Neural Network Classifier**"
   ]
  },
  {
   "cell_type": "markdown",
   "id": "6a4e4af6",
   "metadata": {},
   "source": [
    "#### **4.6 Comparison**"
   ]
  }
 ],
 "metadata": {
  "colab": {
   "provenance": []
  },
  "kernelspec": {
   "display_name": "Python 3 (ipykernel)",
   "language": "python",
   "name": "python3"
  },
  "language_info": {
   "codemirror_mode": {
    "name": "ipython",
    "version": 3
   },
   "file_extension": ".py",
   "mimetype": "text/x-python",
   "name": "python",
   "nbconvert_exporter": "python",
   "pygments_lexer": "ipython3",
   "version": "3.9.13"
  }
 },
 "nbformat": 4,
 "nbformat_minor": 5
}
